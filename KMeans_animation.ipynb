{
 "cells": [
  {
   "cell_type": "code",
   "execution_count": null,
   "metadata": {},
   "outputs": [],
   "source": [
    "from sklearn.cluster import KMeans\n",
    "import warnings\n",
    "\n",
    "warnings.filterwarnings('ignore', '.*Explicit initial center position passed: performing only one init in KMeans instead of n_init.*', )\n",
    "\n",
    "import pandas as pd\n",
    "import numpy as np\n",
    "import matplotlib.pyplot as plt\n",
    "import matplotlib\n",
    "from matplotlib.animation import FuncAnimation\n",
    "from IPython.display import display, HTML"
   ]
  },
  {
   "cell_type": "code",
   "execution_count": null,
   "metadata": {},
   "outputs": [],
   "source": [
    "# set whatever dataset you want and do the preproc ;)\n",
    "# However: for this to work, we need to have only two features (we want to visualize the clustering)\n",
    "from sklearn import datasets\n",
    "dataset = datasets.load_iris()\n",
    "df = pd.DataFrame(dataset['data'], columns=dataset.feature_names)\n",
    "# target = pd.DataFrame(dataset['target'])\n",
    "display(df.head())\n",
    "\n",
    "# select the two features\n",
    "df = df[['sepal length (cm)', 'sepal width (cm)']]\n",
    "df.head()"
   ]
  },
  {
   "cell_type": "code",
   "execution_count": null,
   "metadata": {},
   "outputs": [],
   "source": [
    "# if you want to normalize, comment this out:\n",
    "# from sklearn.preprocessing import StandardScaler\n",
    "# scaler = StandardScaler()\n",
    "# df = pd.DataFrame(scaler.fit_transform(df), columns=df.columns)\n",
    "# df.describe()"
   ]
  },
  {
   "cell_type": "code",
   "execution_count": null,
   "metadata": {},
   "outputs": [],
   "source": [
    "# Settings for KMeans (feel free to modify as you want)\n",
    "clust_num = 4\n",
    "init = np.array([[0, 0], [1, 0], [0, 1], [2, 4]])"
   ]
  },
  {
   "cell_type": "code",
   "execution_count": null,
   "metadata": {},
   "outputs": [],
   "source": [
    "# algo\n",
    "def fit_and_predict(model, df):\n",
    "    model.fit(df)\n",
    "    pred = model.predict(df)\n",
    "    return np.array(pred), np.array(model.cluster_centers_)\n",
    "\n",
    "def start_algo(df, clust_num=3, init=None):\n",
    "    # max_iter=1 to keep track of iterations\n",
    "    model = KMeans(clust_num, max_iter=1, init=init)\n",
    "    p, c =  fit_and_predict(model, df)\n",
    "    yield p, c\n",
    "    prec_c = np.array([])\n",
    "    prec_p = np.array([])\n",
    "    while not np.array_equal(prec_p, p):\n",
    "        prec_p = p\n",
    "        prec_c = c\n",
    "        \n",
    "\n",
    "        model = KMeans(clust_num, init=prec_c, max_iter=1)\n",
    "            \n",
    "        p, c = fit_and_predict(model, df)\n",
    "        yield p, c\n",
    "    yield p, c"
   ]
  },
  {
   "cell_type": "code",
   "execution_count": null,
   "metadata": {},
   "outputs": [],
   "source": [
    "# TODO: you can also not hard set init. In this first step (this is just an example)\n",
    "generator = start_algo(df, clust_num=clust_num, init=init)"
   ]
  },
  {
   "cell_type": "code",
   "execution_count": null,
   "metadata": {},
   "outputs": [],
   "source": [
    "fig, ax = plt.subplots()\n",
    "rects = ax.scatter(df[df.columns[0]], df[df.columns[1]])"
   ]
  },
  {
   "cell_type": "code",
   "execution_count": null,
   "metadata": {},
   "outputs": [],
   "source": [
    "iteration = [0]"
   ]
  },
  {
   "cell_type": "code",
   "execution_count": null,
   "metadata": {},
   "outputs": [],
   "source": [
    "def animate(A, iteration):\n",
    "    \n",
    "    ax.clear()\n",
    "    ax.scatter(df[df.columns[0]], df[df.columns[1]], c=A[0])\n",
    "    ax.scatter([i[0] for i in A[1]], [i[1] for i in A[1]], c='red')\n",
    "    text = ax.text(0.01, 0.95, \"\", transform=ax.transAxes)\n",
    "    \n",
    "    iteration[0] += 1\n",
    "    text.set_text(\"iterations : {}\".format(iteration[0]))"
   ]
  },
  {
   "cell_type": "code",
   "execution_count": null,
   "metadata": {},
   "outputs": [],
   "source": [
    "anim = FuncAnimation(fig, func=animate,\n",
    "                     fargs=(iteration,), frames=generator, interval=100,\n",
    "                     repeat=False, save_count=1000)"
   ]
  },
  {
   "cell_type": "code",
   "execution_count": null,
   "metadata": {},
   "outputs": [],
   "source": [
    "# This will output the animation\n",
    "a = HTML(anim.to_jshtml())"
   ]
  },
  {
   "cell_type": "code",
   "execution_count": null,
   "metadata": {},
   "outputs": [],
   "source": [
    "a"
   ]
  },
  {
   "cell_type": "code",
   "execution_count": null,
   "metadata": {},
   "outputs": [],
   "source": [
    "# Test if visualizer did right:\n",
    "model = KMeans(clust_num, init=init)\n",
    "l = model.fit_predict(df)\n",
    "plt.scatter(df[df.columns[0]], df[df.columns[1]], c=l)\n",
    "plt.scatter([i[0] for i in model.cluster_centers_], [i[1] for i in model.cluster_centers_], c='red')\n",
    "model.n_iter_"
   ]
  },
  {
   "cell_type": "code",
   "execution_count": null,
   "metadata": {},
   "outputs": [],
   "source": [
    "# with open(\"examples/kmeans.html\", \"w\") as f:\n",
    "#     print(anim.to_jshtml(), file=f)"
   ]
  }
 ],
 "metadata": {
  "interpreter": {
   "hash": "1be463f8d0b1cf702f36528853e07f729e457ba79e304c70b6a4c3fa692a8b40"
  },
  "kernelspec": {
   "display_name": "Python 3.8.10 64-bit ('venv': venv)",
   "language": "python",
   "name": "python3"
  },
  "language_info": {
   "codemirror_mode": {
    "name": "ipython",
    "version": 3
   },
   "file_extension": ".py",
   "mimetype": "text/x-python",
   "name": "python",
   "nbconvert_exporter": "python",
   "pygments_lexer": "ipython3",
   "version": "3.8.10"
  },
  "orig_nbformat": 4
 },
 "nbformat": 4,
 "nbformat_minor": 2
}
